{
 "cells": [
  {
   "cell_type": "code",
   "execution_count": null,
   "metadata": {},
   "outputs": [],
   "source": [
    "# Importing Libraries\n",
    "import csv\n",
    "import operator\n",
    "import copy\n",
    "from token import EQUAL\n",
    "from builtins import sorted"
   ]
  },
  {
   "cell_type": "code",
   "execution_count": null,
   "metadata": {},
   "outputs": [],
   "source": [
    "#Open the CSV file\n",
    "reader = csv.reader(open(r'D:\\SecondSem\\DV\\Ass4\\Largest_Cities_CSV.csv'),delimiter=',')"
   ]
  },
  {
   "cell_type": "code",
   "execution_count": null,
   "metadata": {},
   "outputs": [],
   "source": [
    "#Initialize the variables\n",
    "u = 'State - Place'\n",
    "x = 'Year'\n",
    "y = 'Population'\n",
    "z = 'Rohit - Rank'\n",
    "rows_so_far = 0\n",
    "c = 0"
   ]
  },
  {
   "cell_type": "code",
   "execution_count": null,
   "metadata": {},
   "outputs": [],
   "source": [
    "#Initializing the 2 dimensional list\n",
    "pool =[]\n",
    "pool.append([])"
   ]
  },
  {
   "cell_type": "code",
   "execution_count": null,
   "metadata": {},
   "outputs": [],
   "source": [
    "#Loop through the csv file and append the list\n",
    "for row in reader:\n",
    "    if rows_so_far==0:\n",
    "        rows_so_far +=1\n",
    "        header = row\n",
    "        \n",
    "#Populate Header\n",
    "#Header for the csv file should include\n",
    "#State-City, Year, Population, Rank\n",
    "        for j in range(0,4):\n",
    "            if j==0:\n",
    "                pool.append([])\n",
    "                pool[0].append(u)\n",
    "            if j==1:\n",
    "                pool[0].append(x)\n",
    "            if j==2:\n",
    "                pool[0].append(y)\n",
    "            if j==3:\n",
    "                pool[0].append(z)\n",
    "    else:\n",
    "#Populate Items\n",
    "#Append the population of a city for each year\n",
    "        for i in range(len(row)-2):\n",
    "            a=len(pool)\n",
    "            if not row== []:\n",
    "                if i==0 or i>=1:\n",
    "                    item = copy.deepcopy(row)\n",
    "                    r    = copy.deepcopy(row)\n",
    "#Population the values for the columns\n",
    "                    for j in range(0,4):\n",
    "                        if item[i+2] is not '':\n",
    "                            if j==0:           \n",
    "#Concatenate the State and City value\n",
    "                                r[0]= item[j+1]+' - '+item[j]\n",
    "                                pool.append([])\n",
    "                                pool[a-1].append(r[0])\n",
    "#Populate Year value\n",
    "                            if j==1:\n",
    "                                pool[a-1].append(int(header[i+2]))\n",
    "#Populate Population value\n",
    "#In case the population is nil, do not append the record in the list\n",
    "                            if j==2:\n",
    "                                if item[i+2] == '':\n",
    "                                    pool[a-1].append(int(0))\n",
    "                                else:\n",
    "                                    pool[a-1].append(int(item[i+2]))\n",
    "#Initialize the rank to 0, ranks are calculated in the program\n",
    "                            if j==3:\n",
    "                                pool[a-1].append(int(0))\n",
    "    rows_so_far+=1\n"
   ]
  },
  {
   "cell_type": "code",
   "execution_count": null,
   "metadata": {},
   "outputs": [],
   "source": [
    "#Check the length of the list\n",
    "a = len(pool)"
   ]
  },
  {
   "cell_type": "code",
   "execution_count": null,
   "metadata": {},
   "outputs": [],
   "source": [
    "#Populate the list with all values except header as\n",
    "#Sorting cannot be done on integer values when one record has character value \n",
    "list = pool[1:a-1]"
   ]
  },
  {
   "cell_type": "code",
   "execution_count": null,
   "metadata": {},
   "outputs": [],
   "source": [
    "#Sort the list by Year & Population\n",
    "list.sort(key = lambda b: (b[1],b[2]), reverse=True)"
   ]
  },
  {
   "cell_type": "code",
   "execution_count": null,
   "metadata": {},
   "outputs": [],
   "source": [
    "#Add the header to the list \n",
    "list1 = []\n",
    "list1.append([])\n",
    "list1[0] = pool[0]\n",
    "list1[1:a-1] = list[0:a-2]"
   ]
  },
  {
   "cell_type": "code",
   "execution_count": null,
   "metadata": {},
   "outputs": [],
   "source": [
    "#Convert the list into CSV file\n",
    "mycsv = csv.writer(open(r'D:\\SecondSem\\DV\\Ass4\\RohitSuseel.csv', 'w', newline='')) \n",
    "for row in list1:\n",
    "#Fetching the row index\n",
    "#No calculation is done at header level\n",
    "    e= list1.index(row)\n",
    "#Compare the year value of the current record with the previous record \n",
    "#if same calculate the rank, if different assign the rank as one\n",
    "    if row[1] != c and e != 0:\n",
    "        v=1\n",
    "        c=row[1]\n",
    "        row[3]=v\n",
    "    else:\n",
    "        if row[1] == c and e != 0:\n",
    "            v+=1\n",
    "            row[3]=v\n",
    "#write row to csv\n",
    "    mycsv.writerow(row)\n",
    "    "
   ]
  },
  {
   "cell_type": "code",
   "execution_count": null,
   "metadata": {},
   "outputs": [],
   "source": []
  }
 ],
 "metadata": {
  "kernelspec": {
   "display_name": "Python 3",
   "language": "python",
   "name": "python3"
  },
  "language_info": {
   "codemirror_mode": {
    "name": "ipython",
    "version": 3
   },
   "file_extension": ".py",
   "mimetype": "text/x-python",
   "name": "python",
   "nbconvert_exporter": "python",
   "pygments_lexer": "ipython3",
   "version": "3.7.3"
  }
 },
 "nbformat": 4,
 "nbformat_minor": 2
}
