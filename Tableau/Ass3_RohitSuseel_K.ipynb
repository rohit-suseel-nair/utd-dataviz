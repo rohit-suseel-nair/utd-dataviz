{
 "cells": [
  {
   "cell_type": "markdown",
   "metadata": {},
   "source": [
    "# Importing Requirements"
   ]
  },
  {
   "cell_type": "code",
   "execution_count": 1,
   "metadata": {},
   "outputs": [
    {
     "data": {
      "text/html": [
       "<style>.container {width:100% !important;}</style>"
      ],
      "text/plain": [
       "<IPython.core.display.HTML object>"
      ]
     },
     "metadata": {},
     "output_type": "display_data"
    }
   ],
   "source": [
    "from IPython.core.display import display, HTML\n",
    "display(HTML(\"<style>.container {width:100% !important;}</style>\"))"
   ]
  },
  {
   "cell_type": "code",
   "execution_count": 2,
   "metadata": {},
   "outputs": [],
   "source": [
    "import pandas as pd\n",
    "import numpy as np\n",
    "import matplotlib.pyplot as plt\n",
    "import seaborn as sns\n",
    "import os"
   ]
  },
  {
   "cell_type": "code",
   "execution_count": 4,
   "metadata": {},
   "outputs": [],
   "source": [
    "%matplotlib inline"
   ]
  },
  {
   "cell_type": "markdown",
   "metadata": {},
   "source": [
    "# Exploring the Data Set"
   ]
  },
  {
   "cell_type": "code",
   "execution_count": 5,
   "metadata": {},
   "outputs": [],
   "source": [
    "path=\"D:/SecondSem/DV/Ass3\"\n",
    "data_dir = os.path.join(path,'IAC_5_Dataset.xlsx')\n",
    "data_output = os.path.join(path,'IAC_5_Dataset.xlsx')"
   ]
  },
  {
   "cell_type": "code",
   "execution_count": 6,
   "metadata": {},
   "outputs": [
    {
     "data": {
      "text/plain": [
       "['Basic Indicators',\n",
       " 'Nutrition',\n",
       " 'Health',\n",
       " 'HIV-AIDS',\n",
       " 'Education',\n",
       " 'Demographic Indicators',\n",
       " 'Women',\n",
       " 'Child Protection',\n",
       " 'Adolescents',\n",
       " 'Disparities by Residence',\n",
       " 'Disparities by Household Wealth',\n",
       " 'Early Childhood Development',\n",
       " 'Economic Indicators']"
      ]
     },
     "execution_count": 6,
     "metadata": {},
     "output_type": "execute_result"
    }
   ],
   "source": [
    "df = pd.ExcelFile(data_dir)\n",
    "df.sheet_names"
   ]
  },
  {
   "cell_type": "code",
   "execution_count": 7,
   "metadata": {},
   "outputs": [],
   "source": [
    "df_observations = pd.read_excel(data_dir,sheet_name = 'Basic Indicators',data_parser = True)"
   ]
  },
  {
   "cell_type": "code",
   "execution_count": 15,
   "metadata": {},
   "outputs": [
    {
     "data": {
      "text/html": [
       "<div>\n",
       "<style scoped>\n",
       "    .dataframe tbody tr th:only-of-type {\n",
       "        vertical-align: middle;\n",
       "    }\n",
       "\n",
       "    .dataframe tbody tr th {\n",
       "        vertical-align: top;\n",
       "    }\n",
       "\n",
       "    .dataframe thead th {\n",
       "        text-align: right;\n",
       "    }\n",
       "</style>\n",
       "<table border=\"1\" class=\"dataframe\">\n",
       "  <thead>\n",
       "    <tr style=\"text-align: right;\">\n",
       "      <th></th>\n",
       "      <th>Unnamed: 0</th>\n",
       "      <th>Unnamed: 1</th>\n",
       "      <th>Unnamed: 2</th>\n",
       "      <th>Unnamed: 3</th>\n",
       "      <th>Unnamed: 4</th>\n",
       "      <th>Unnamed: 5</th>\n",
       "      <th>Unnamed: 6</th>\n",
       "      <th>Unnamed: 7</th>\n",
       "      <th>Unnamed: 8</th>\n",
       "      <th>Unnamed: 9</th>\n",
       "      <th>...</th>\n",
       "      <th>Unnamed: 14</th>\n",
       "      <th>Unnamed: 15</th>\n",
       "      <th>Unnamed: 16</th>\n",
       "      <th>Unnamed: 17</th>\n",
       "      <th>Unnamed: 18</th>\n",
       "      <th>Unnamed: 19</th>\n",
       "      <th>Unnamed: 20</th>\n",
       "      <th>Unnamed: 21</th>\n",
       "      <th>Unnamed: 22</th>\n",
       "      <th>Unnamed: 23</th>\n",
       "    </tr>\n",
       "  </thead>\n",
       "  <tbody>\n",
       "  </tbody>\n",
       "</table>\n",
       "<p>0 rows × 24 columns</p>\n",
       "</div>"
      ],
      "text/plain": [
       "Empty DataFrame\n",
       "Columns: [Unnamed: 0, Unnamed: 1, Unnamed: 2, Unnamed: 3, Unnamed: 4, Unnamed: 5, Unnamed: 6, Unnamed: 7, Unnamed: 8, Unnamed: 9, Unnamed: 10, Unnamed: 11, Unnamed: 12, Unnamed: 13, Unnamed: 14, Unnamed: 15, Unnamed: 16, Unnamed: 17, Unnamed: 18, Unnamed: 19, Unnamed: 20, Unnamed: 21, Unnamed: 22, Unnamed: 23]\n",
       "Index: []\n",
       "\n",
       "[0 rows x 24 columns]"
      ]
     },
     "execution_count": 15,
     "metadata": {},
     "output_type": "execute_result"
    }
   ],
   "source": [
    "df_observations.head(25)"
   ]
  },
  {
   "cell_type": "code",
   "execution_count": 10,
   "metadata": {},
   "outputs": [],
   "source": [
    "df_products = pd.read_excel(data_dir,sheet_name = 'Products',data_parser = True)"
   ]
  },
  {
   "cell_type": "code",
   "execution_count": 11,
   "metadata": {},
   "outputs": [
    {
     "data": {
      "text/html": [
       "<div>\n",
       "<style scoped>\n",
       "    .dataframe tbody tr th:only-of-type {\n",
       "        vertical-align: middle;\n",
       "    }\n",
       "\n",
       "    .dataframe tbody tr th {\n",
       "        vertical-align: top;\n",
       "    }\n",
       "\n",
       "    .dataframe thead th {\n",
       "        text-align: right;\n",
       "    }\n",
       "</style>\n",
       "<table border=\"1\" class=\"dataframe\">\n",
       "  <thead>\n",
       "    <tr style=\"text-align: right;\">\n",
       "      <th></th>\n",
       "      <th>Product Code</th>\n",
       "      <th>Product Name</th>\n",
       "    </tr>\n",
       "  </thead>\n",
       "  <tbody>\n",
       "    <tr>\n",
       "      <th>0</th>\n",
       "      <td>11</td>\n",
       "      <td>Rice, long grain</td>\n",
       "    </tr>\n",
       "    <tr>\n",
       "      <th>1</th>\n",
       "      <td>12</td>\n",
       "      <td>Rice, white</td>\n",
       "    </tr>\n",
       "    <tr>\n",
       "      <th>2</th>\n",
       "      <td>13</td>\n",
       "      <td>Cornflakes, Kellogg's</td>\n",
       "    </tr>\n",
       "    <tr>\n",
       "      <th>3</th>\n",
       "      <td>14</td>\n",
       "      <td>Flour, wheat</td>\n",
       "    </tr>\n",
       "    <tr>\n",
       "      <th>4</th>\n",
       "      <td>15</td>\n",
       "      <td>Flour, maize</td>\n",
       "    </tr>\n",
       "  </tbody>\n",
       "</table>\n",
       "</div>"
      ],
      "text/plain": [
       "   Product Code           Product Name\n",
       "0            11       Rice, long grain\n",
       "1            12            Rice, white\n",
       "2            13  Cornflakes, Kellogg's\n",
       "3            14           Flour, wheat\n",
       "4            15           Flour, maize"
      ]
     },
     "execution_count": 11,
     "metadata": {},
     "output_type": "execute_result"
    }
   ],
   "source": [
    "df_products.head()"
   ]
  },
  {
   "cell_type": "code",
   "execution_count": 14,
   "metadata": {},
   "outputs": [
    {
     "name": "stdout",
     "output_type": "stream",
     "text": [
      "<class 'pandas.core.frame.DataFrame'>\n",
      "Int64Index: 0 entries\n",
      "Data columns (total 24 columns):\n",
      "Unnamed: 0     0 non-null float64\n",
      "Unnamed: 1     0 non-null object\n",
      "Unnamed: 2     0 non-null object\n",
      "Unnamed: 3     0 non-null object\n",
      "Unnamed: 4     0 non-null object\n",
      "Unnamed: 5     0 non-null object\n",
      "Unnamed: 6     0 non-null object\n",
      "Unnamed: 7     0 non-null object\n",
      "Unnamed: 8     0 non-null object\n",
      "Unnamed: 9     0 non-null object\n",
      "Unnamed: 10    0 non-null object\n",
      "Unnamed: 11    0 non-null object\n",
      "Unnamed: 12    0 non-null object\n",
      "Unnamed: 13    0 non-null object\n",
      "Unnamed: 14    0 non-null object\n",
      "Unnamed: 15    0 non-null object\n",
      "Unnamed: 16    0 non-null object\n",
      "Unnamed: 17    0 non-null object\n",
      "Unnamed: 18    0 non-null float64\n",
      "Unnamed: 19    0 non-null float64\n",
      "Unnamed: 20    0 non-null float64\n",
      "Unnamed: 21    0 non-null float64\n",
      "Unnamed: 22    0 non-null float64\n",
      "Unnamed: 23    0 non-null float64\n",
      "dtypes: float64(7), object(17)\n",
      "memory usage: 0.0+ bytes\n"
     ]
    }
   ],
   "source": [
    "df_observations.info()"
   ]
  },
  {
   "cell_type": "code",
   "execution_count": 11,
   "metadata": {},
   "outputs": [
    {
     "data": {
      "text/plain": [
       "Unnamed: 0     246\n",
       "Unnamed: 1       8\n",
       "Unnamed: 2      30\n",
       "Unnamed: 3      29\n",
       "Unnamed: 4      30\n",
       "Unnamed: 5      29\n",
       "Unnamed: 6      30\n",
       "Unnamed: 7      29\n",
       "Unnamed: 8      30\n",
       "Unnamed: 9      29\n",
       "Unnamed: 10     29\n",
       "Unnamed: 11     29\n",
       "Unnamed: 12     29\n",
       "Unnamed: 13     29\n",
       "Unnamed: 14     29\n",
       "Unnamed: 15    206\n",
       "Unnamed: 16     29\n",
       "Unnamed: 17    228\n",
       "Unnamed: 18    246\n",
       "Unnamed: 19    246\n",
       "Unnamed: 20    246\n",
       "Unnamed: 21    246\n",
       "Unnamed: 22    246\n",
       "Unnamed: 23    245\n",
       "dtype: int64"
      ]
     },
     "execution_count": 11,
     "metadata": {},
     "output_type": "execute_result"
    }
   ],
   "source": [
    "df_observations.isnull().sum()"
   ]
  },
  {
   "cell_type": "code",
   "execution_count": 12,
   "metadata": {},
   "outputs": [],
   "source": [
    "df_observations.dropna(axis=0,inplace=True)"
   ]
  },
  {
   "cell_type": "code",
   "execution_count": 13,
   "metadata": {},
   "outputs": [
    {
     "data": {
      "text/plain": [
       "Unnamed: 0     0\n",
       "Unnamed: 1     0\n",
       "Unnamed: 2     0\n",
       "Unnamed: 3     0\n",
       "Unnamed: 4     0\n",
       "Unnamed: 5     0\n",
       "Unnamed: 6     0\n",
       "Unnamed: 7     0\n",
       "Unnamed: 8     0\n",
       "Unnamed: 9     0\n",
       "Unnamed: 10    0\n",
       "Unnamed: 11    0\n",
       "Unnamed: 12    0\n",
       "Unnamed: 13    0\n",
       "Unnamed: 14    0\n",
       "Unnamed: 15    0\n",
       "Unnamed: 16    0\n",
       "Unnamed: 17    0\n",
       "Unnamed: 18    0\n",
       "Unnamed: 19    0\n",
       "Unnamed: 20    0\n",
       "Unnamed: 21    0\n",
       "Unnamed: 22    0\n",
       "Unnamed: 23    0\n",
       "dtype: int64"
      ]
     },
     "execution_count": 13,
     "metadata": {},
     "output_type": "execute_result"
    }
   ],
   "source": [
    "df_observations.isnull().sum()"
   ]
  },
  {
   "cell_type": "code",
   "execution_count": 16,
   "metadata": {},
   "outputs": [
    {
     "name": "stdout",
     "output_type": "stream",
     "text": [
      "<class 'pandas.core.frame.DataFrame'>\n",
      "RangeIndex: 30 entries, 0 to 29\n",
      "Data columns (total 2 columns):\n",
      "Product Code    30 non-null int64\n",
      "Product Name    30 non-null object\n",
      "dtypes: int64(1), object(1)\n",
      "memory usage: 560.0+ bytes\n"
     ]
    }
   ],
   "source": [
    "df_products.info()"
   ]
  },
  {
   "cell_type": "code",
   "execution_count": 17,
   "metadata": {},
   "outputs": [
    {
     "data": {
      "text/plain": [
       "Product Code    0\n",
       "Product Name    0\n",
       "dtype: int64"
      ]
     },
     "execution_count": 17,
     "metadata": {},
     "output_type": "execute_result"
    }
   ],
   "source": [
    "df_products.isnull().sum()"
   ]
  },
  {
   "cell_type": "code",
   "execution_count": 45,
   "metadata": {},
   "outputs": [
    {
     "name": "stderr",
     "output_type": "stream",
     "text": [
      "C:\\Users\\MSI\\Anaconda3\\lib\\site-packages\\numpy\\lib\\histograms.py:824: RuntimeWarning: invalid value encountered in greater_equal\n",
      "  keep = (tmp_a >= first_edge)\n",
      "C:\\Users\\MSI\\Anaconda3\\lib\\site-packages\\numpy\\lib\\histograms.py:825: RuntimeWarning: invalid value encountered in less_equal\n",
      "  keep &= (tmp_a <= last_edge)\n"
     ]
    },
    {
     "data": {
      "image/png": "[encoded data removed]",
      "text/plain": [
       "<Figure size 1440x576 with 1 Axes>"
      ]
     },
     "metadata": {
      "needs_background": "light"
     },
     "output_type": "display_data"
    },
    {
     "name": "stdout",
     "output_type": "stream",
     "text": [
      "Mean -10.563621484227882\n",
      "Median -8.91\n"
     ]
    }
   ],
   "source": [
    "plt.figure(figsize=(20,8))\n",
    "plt.hist(df_observations.Price,bins = 27)\n",
    "plt.show()\n",
    "print(\"Mean -\"+ str(df_observations.Price.mean()))\n",
    "print(\"Median -\"+ str(df_observations.Price.median()))\n"
   ]
  },
  {
   "cell_type": "code",
   "execution_count": 19,
   "metadata": {},
   "outputs": [],
   "source": [
    "df_observations.Price.fillna(df_observations.Price.median(),inplace = True)"
   ]
  },
  {
   "cell_type": "code",
   "execution_count": 20,
   "metadata": {},
   "outputs": [
    {
     "data": {
      "text/plain": [
       "Country         0\n",
       "City            0\n",
       "Obs Date        0\n",
       "Product Code    0\n",
       "Quantity        0\n",
       "Price           0\n",
       "dtype: int64"
      ]
     },
     "execution_count": 20,
     "metadata": {},
     "output_type": "execute_result"
    }
   ],
   "source": [
    "df_observations.isna().sum()"
   ]
  },
  {
   "cell_type": "code",
   "execution_count": 21,
   "metadata": {},
   "outputs": [
    {
     "data": {
      "text/plain": [
       "['Kenya',\n",
       " 'Pakistan',\n",
       " 'India',\n",
       " 'Bangladesh',\n",
       " 'Indonesia',\n",
       " 'Nigeria',\n",
       " 'Philippines',\n",
       " 'Brazil',\n",
       " 'Brazel',\n",
       " 'Indonseia',\n",
       " 'Phillippines']"
      ]
     },
     "execution_count": 21,
     "metadata": {},
     "output_type": "execute_result"
    }
   ],
   "source": [
    "list(df_observations.Country.unique())"
   ]
  },
  {
   "cell_type": "code",
   "execution_count": 22,
   "metadata": {},
   "outputs": [],
   "source": [
    "df_observations.Country = df_observations.Country.map({'Kenya':'Kenya','Pakistan':'Pakistan','India':'India','Bangladesh':'Bangladesh','Indonesia':'Indonesia','Nigeria':'Nigeria','Philippines':'Philippines','Brazil':'Brazil','Brazel':'Brazil','Indonseia':'Indonesia','Phillippines':'Philippines'})"
   ]
  },
  {
   "cell_type": "code",
   "execution_count": 23,
   "metadata": {},
   "outputs": [
    {
     "data": {
      "text/plain": [
       "['Kenya',\n",
       " 'Pakistan',\n",
       " 'India',\n",
       " 'Bangladesh',\n",
       " 'Indonesia',\n",
       " 'Nigeria',\n",
       " 'Philippines',\n",
       " 'Brazil']"
      ]
     },
     "execution_count": 23,
     "metadata": {},
     "output_type": "execute_result"
    }
   ],
   "source": [
    "list(df_observations.Country.unique())"
   ]
  },
  {
   "cell_type": "code",
   "execution_count": 24,
   "metadata": {},
   "outputs": [
    {
     "data": {
      "text/plain": [
       "14397"
      ]
     },
     "execution_count": 24,
     "metadata": {},
     "output_type": "execute_result"
    }
   ],
   "source": [
    "df_observations.duplicated().sum()"
   ]
  },
  {
   "cell_type": "code",
   "execution_count": 25,
   "metadata": {},
   "outputs": [],
   "source": [
    "dfObj = pd.DataFrame(df_observations)"
   ]
  },
  {
   "cell_type": "code",
   "execution_count": 26,
   "metadata": {},
   "outputs": [
    {
     "name": "stdout",
     "output_type": "stream",
     "text": [
      "Duplicate rows except first occurence based on all columns are:\n",
      "           Country        City             Obs Date  Product Code Quantity  \\\n",
      "121       Pakistan    Sargodha  2009-01-20 00:00:00          44.0     1 kg   \n",
      "127       Pakistan  Gujranwala  2009-01-20 00:00:00          44.0     1 kg   \n",
      "130       Pakistan    Sargodha  2009-01-20 00:00:00          52.0     1 kg   \n",
      "131       Pakistan  Gujranwala  2009-01-20 00:00:00          52.0     1 kg   \n",
      "141       Pakistan     Karachi                39834          44.0     1 kg   \n",
      "149          Kenya     Eldoret  2009-01-21 00:00:00          52.0     1 kg   \n",
      "153          Kenya     Eldoret  2009-01-21 00:00:00          52.0     1 kg   \n",
      "165       Pakistan    Peshawar  2009-01-22 00:00:00          47.0     1 kg   \n",
      "175       Pakistan    Peshawar  2009-01-22 00:00:00          47.0     1 kg   \n",
      "177       Pakistan    Peshawar  2009-01-22 00:00:00          44.0     1 kg   \n",
      "227          Kenya     Nairobi  2009-01-26 00:00:00          52.0     1 kg   \n",
      "229          Kenya     Nairobi  2009-01-26 00:00:00          52.0     1 kg   \n",
      "231          India      Ujjain  2009-01-26 00:00:00          14.0     1 kg   \n",
      "235          India      Ujjain  2009-01-26 00:00:00          45.0     1 kg   \n",
      "239       Pakistan     Karachi  2009-01-26 00:00:00          47.0     1 kg   \n",
      "243       Pakistan     Karachi  2009-01-26 00:00:00          52.0     1 kg   \n",
      "244          India      Ujjain  2009-01-26 00:00:00          47.0     1 kg   \n",
      "261       Pakistan     Karachi  2009-01-27 00:00:00          47.0     1 kg   \n",
      "265          Kenya     Nairobi  2009-01-28 00:00:00          52.0     1 kg   \n",
      "267          Kenya     Nairobi  2009-01-28 00:00:00          52.0     1 kg   \n",
      "278          India    Jabalpur  2009-01-29 00:00:00          49.0    500 g   \n",
      "281       Pakistan      Attock  2009-01-29 00:00:00          46.0     1 kg   \n",
      "313     Bangladesh       Dhaka  2009-02-01 00:00:00          47.0     1 kg   \n",
      "314       Pakistan     Karachi  2009-02-01 00:00:00          47.0     1 kg   \n",
      "317     Bangladesh       Dhaka  2009-02-01 00:00:00          47.0     1 kg   \n",
      "328     Bangladesh       Dhaka  2009-02-02 00:00:00          47.0     1 kg   \n",
      "332     Bangladesh    Rajshahi  2009-02-02 00:00:00          47.0     1 kg   \n",
      "337     Bangladesh       Dhaka  2009-02-02 00:00:00          45.0     1 kg   \n",
      "338     Bangladesh    Rajshahi  2009-02-02 00:00:00          45.0     1 kg   \n",
      "345     Bangladesh    Rajshahi  2009-02-03 00:00:00          47.0     1 kg   \n",
      "...            ...         ...                  ...           ...      ...   \n",
      "945042     Nigeria       Lagos  2009-02-21 00:00:00          23.0     1 kg   \n",
      "945472       Kenya     Nairobi  2009-03-08 00:00:00          22.0     1 kg   \n",
      "947082     Nigeria       Lagos  2009-03-25 00:00:00          15.0     2 kg   \n",
      "947210  Bangladesh       Dhaka  2009-02-16 00:00:00          24.0     1 kg   \n",
      "948118  Bangladesh       Dhaka  2009-04-05 00:00:00          61.0    250 g   \n",
      "948839  Bangladesh       Dhaka  2009-02-21 00:00:00          24.0     1 kg   \n",
      "949263       Kenya     Nairobi  2009-03-20 00:00:00          22.0     1 kg   \n",
      "949718  Bangladesh       Dhaka  2009-04-11 00:00:00          13.0    500 g   \n",
      "950183       Kenya     Nairobi  2009-01-11 00:00:00          21.0     1 kg   \n",
      "951242     Nigeria       Lagos  2009-03-29 00:00:00          14.0     1 kg   \n",
      "952174     Nigeria       Lagos  2009-02-21 00:00:00          22.0     1 kg   \n",
      "953359       Kenya     Nairobi  2009-04-21 00:00:00          24.0     1 kg   \n",
      "953675       Kenya     Nairobi  2009-02-21 00:00:00          24.0     1 kg   \n",
      "955569     Nigeria       Abuja  2009-04-15 00:00:00          61.0    250 g   \n",
      "955693  Bangladesh       Dhaka  2009-04-04 00:00:00          23.0     1 kg   \n",
      "956114  Bangladesh       Dhaka  2009-04-01 00:00:00          61.0    250 g   \n",
      "956267       Kenya     Eldoret  2009-03-31 00:00:00          22.0     1 kg   \n",
      "956952     Nigeria       Abuja  2009-02-21 00:00:00          21.0     1 kg   \n",
      "957036     Nigeria       Abuja  2009-02-17 00:00:00          15.0     2 kg   \n",
      "958025  Bangladesh       Dhaka  2009-03-25 00:00:00          21.0     1 kg   \n",
      "959240     Nigeria       Abuja  2009-01-05 00:00:00          24.0     1 kg   \n",
      "959439     Nigeria       Abuja  2009-02-18 00:00:00          13.0    500 g   \n",
      "959886  Bangladesh       Dhaka  2009-04-03 00:00:00          21.0     1 kg   \n",
      "960174       Kenya     Eldoret  2009-03-28 00:00:00          61.0    250 g   \n",
      "960257     Nigeria       Lagos  2009-03-19 00:00:00          24.0     1 kg   \n",
      "961079     Nigeria       Abuja  2009-03-29 00:00:00          22.0     1 kg   \n",
      "961146       Kenya     Nairobi  2009-04-22 00:00:00          23.0     1 kg   \n",
      "961159       Kenya     Nairobi  2009-04-24 00:00:00          24.0     1 kg   \n",
      "961424  Bangladesh       Dhaka  2009-04-06 00:00:00          24.0     1 kg   \n",
      "961437  Bangladesh       Dhaka  2009-03-28 00:00:00          24.0     1 kg   \n",
      "\n",
      "        Price  \n",
      "121      8.91  \n",
      "127      8.91  \n",
      "130      8.91  \n",
      "131      8.91  \n",
      "141      8.91  \n",
      "149      8.91  \n",
      "153      8.91  \n",
      "165      8.91  \n",
      "175      8.91  \n",
      "177      8.91  \n",
      "227      8.91  \n",
      "229      8.91  \n",
      "231      8.91  \n",
      "235      8.91  \n",
      "239      8.91  \n",
      "243      8.91  \n",
      "244      8.91  \n",
      "261      8.91  \n",
      "265      8.91  \n",
      "267      8.91  \n",
      "278      8.91  \n",
      "281      8.91  \n",
      "313      8.91  \n",
      "314      8.91  \n",
      "317      8.91  \n",
      "328      8.91  \n",
      "332      8.91  \n",
      "337      8.91  \n",
      "338      8.91  \n",
      "345      8.91  \n",
      "...       ...  \n",
      "945042  16.21  \n",
      "945472  20.53  \n",
      "947082  12.83  \n",
      "947210  12.30  \n",
      "948118  24.79  \n",
      "948839   9.84  \n",
      "949263   1.98  \n",
      "949718   9.80  \n",
      "950183  24.25  \n",
      "951242  14.73  \n",
      "952174   7.90  \n",
      "953359  25.01  \n",
      "953675  13.63  \n",
      "955569   2.52  \n",
      "955693  18.54  \n",
      "956114  18.48  \n",
      "956267  12.30  \n",
      "956952  18.99  \n",
      "957036   3.38  \n",
      "958025   7.50  \n",
      "959240   7.81  \n",
      "959439  17.09  \n",
      "959886  21.81  \n",
      "960174   2.27  \n",
      "960257   9.97  \n",
      "961079  19.25  \n",
      "961146   0.33  \n",
      "961159   7.64  \n",
      "961424  19.17  \n",
      "961437   3.14  \n",
      "\n",
      "[14397 rows x 6 columns]\n"
     ]
    }
   ],
   "source": [
    "duplicaterowsDf = dfObj[dfObj.duplicated()]\n",
    "print(\"Duplicate rows except first occurence based on all columns are:\")\n",
    "print(duplicaterowsDf)"
   ]
  },
  {
   "cell_type": "code",
   "execution_count": 27,
   "metadata": {},
   "outputs": [],
   "source": [
    "df_observations.drop_duplicates(subset=df_observations.columns,inplace = True)"
   ]
  },
  {
   "cell_type": "code",
   "execution_count": 28,
   "metadata": {},
   "outputs": [
    {
     "data": {
      "text/plain": [
       "0"
      ]
     },
     "execution_count": 28,
     "metadata": {},
     "output_type": "execute_result"
    }
   ],
   "source": [
    "df_observations.duplicated().sum()"
   ]
  },
  {
   "cell_type": "markdown",
   "metadata": {},
   "source": [
    "# Merging both data sets"
   ]
  },
  {
   "cell_type": "code",
   "execution_count": 33,
   "metadata": {},
   "outputs": [
    {
     "data": {
      "text/html": [
       "<div>\n",
       "<style scoped>\n",
       "    .dataframe tbody tr th:only-of-type {\n",
       "        vertical-align: middle;\n",
       "    }\n",
       "\n",
       "    .dataframe tbody tr th {\n",
       "        vertical-align: top;\n",
       "    }\n",
       "\n",
       "    .dataframe thead th {\n",
       "        text-align: right;\n",
       "    }\n",
       "</style>\n",
       "<table border=\"1\" class=\"dataframe\">\n",
       "  <thead>\n",
       "    <tr style=\"text-align: right;\">\n",
       "      <th></th>\n",
       "      <th>Country</th>\n",
       "      <th>City</th>\n",
       "      <th>Obs Date</th>\n",
       "      <th>Product Code</th>\n",
       "      <th>Quantity</th>\n",
       "      <th>Price</th>\n",
       "      <th>Product Name</th>\n",
       "    </tr>\n",
       "  </thead>\n",
       "  <tbody>\n",
       "    <tr>\n",
       "      <th>0</th>\n",
       "      <td>Kenya</td>\n",
       "      <td>Eldoret</td>\n",
       "      <td>2009-01-01 00:00:00</td>\n",
       "      <td>52.0</td>\n",
       "      <td>1 kg</td>\n",
       "      <td>11.92</td>\n",
       "      <td>Cooking salt</td>\n",
       "    </tr>\n",
       "    <tr>\n",
       "      <th>1</th>\n",
       "      <td>Kenya</td>\n",
       "      <td>Eldoret</td>\n",
       "      <td>2009-01-01 00:00:00</td>\n",
       "      <td>52.0</td>\n",
       "      <td>1 kg</td>\n",
       "      <td>5.91</td>\n",
       "      <td>Cooking salt</td>\n",
       "    </tr>\n",
       "    <tr>\n",
       "      <th>2</th>\n",
       "      <td>Kenya</td>\n",
       "      <td>Eldoret</td>\n",
       "      <td>2009-01-02 00:00:00</td>\n",
       "      <td>52.0</td>\n",
       "      <td>1 kg</td>\n",
       "      <td>16.50</td>\n",
       "      <td>Cooking salt</td>\n",
       "    </tr>\n",
       "    <tr>\n",
       "      <th>3</th>\n",
       "      <td>Kenya</td>\n",
       "      <td>Eldoret</td>\n",
       "      <td>2009-01-02 00:00:00</td>\n",
       "      <td>52.0</td>\n",
       "      <td>1 kg</td>\n",
       "      <td>9.77</td>\n",
       "      <td>Cooking salt</td>\n",
       "    </tr>\n",
       "    <tr>\n",
       "      <th>4</th>\n",
       "      <td>Pakistan</td>\n",
       "      <td>Rawalpindi</td>\n",
       "      <td>2009-01-03 00:00:00</td>\n",
       "      <td>52.0</td>\n",
       "      <td>1 kg</td>\n",
       "      <td>17.80</td>\n",
       "      <td>Cooking salt</td>\n",
       "    </tr>\n",
       "  </tbody>\n",
       "</table>\n",
       "</div>"
      ],
      "text/plain": [
       "    Country        City             Obs Date  Product Code Quantity  Price  \\\n",
       "0     Kenya     Eldoret  2009-01-01 00:00:00          52.0     1 kg  11.92   \n",
       "1     Kenya     Eldoret  2009-01-01 00:00:00          52.0     1 kg   5.91   \n",
       "2     Kenya     Eldoret  2009-01-02 00:00:00          52.0     1 kg  16.50   \n",
       "3     Kenya     Eldoret  2009-01-02 00:00:00          52.0     1 kg   9.77   \n",
       "4  Pakistan  Rawalpindi  2009-01-03 00:00:00          52.0     1 kg  17.80   \n",
       "\n",
       "   Product Name  \n",
       "0  Cooking salt  \n",
       "1  Cooking salt  \n",
       "2  Cooking salt  \n",
       "3  Cooking salt  \n",
       "4  Cooking salt  "
      ]
     },
     "execution_count": 33,
     "metadata": {},
     "output_type": "execute_result"
    }
   ],
   "source": [
    "df_full = pd.merge(df_observations,df_products,how ='outer')\n",
    "df_full.head()"
   ]
  },
  {
   "cell_type": "code",
   "execution_count": 30,
   "metadata": {},
   "outputs": [],
   "source": [
    "df_full.sort_values(by='Country',inplace=True)"
   ]
  },
  {
   "cell_type": "code",
   "execution_count": 31,
   "metadata": {},
   "outputs": [
    {
     "data": {
      "text/html": [
       "<div>\n",
       "<style scoped>\n",
       "    .dataframe tbody tr th:only-of-type {\n",
       "        vertical-align: middle;\n",
       "    }\n",
       "\n",
       "    .dataframe tbody tr th {\n",
       "        vertical-align: top;\n",
       "    }\n",
       "\n",
       "    .dataframe thead th {\n",
       "        text-align: right;\n",
       "    }\n",
       "</style>\n",
       "<table border=\"1\" class=\"dataframe\">\n",
       "  <thead>\n",
       "    <tr style=\"text-align: right;\">\n",
       "      <th></th>\n",
       "      <th>Country</th>\n",
       "      <th>City</th>\n",
       "      <th>Obs Date</th>\n",
       "      <th>Product Code</th>\n",
       "      <th>Quantity</th>\n",
       "      <th>Price</th>\n",
       "      <th>Product Name</th>\n",
       "    </tr>\n",
       "  </thead>\n",
       "  <tbody>\n",
       "    <tr>\n",
       "      <th>237535</th>\n",
       "      <td>Bangladesh</td>\n",
       "      <td>Dhaka</td>\n",
       "      <td>2012-04-16 00:00:00</td>\n",
       "      <td>14.0</td>\n",
       "      <td>1 kg</td>\n",
       "      <td>0.96193</td>\n",
       "      <td>Flour, wheat</td>\n",
       "    </tr>\n",
       "    <tr>\n",
       "      <th>256654</th>\n",
       "      <td>Bangladesh</td>\n",
       "      <td>Chittagong</td>\n",
       "      <td>2011-02-27 00:00:00</td>\n",
       "      <td>32.0</td>\n",
       "      <td>6 pc</td>\n",
       "      <td>6.75000</td>\n",
       "      <td>Eggs</td>\n",
       "    </tr>\n",
       "    <tr>\n",
       "      <th>692408</th>\n",
       "      <td>Bangladesh</td>\n",
       "      <td>Chittagong</td>\n",
       "      <td>2010-02-16 00:00:00</td>\n",
       "      <td>31.0</td>\n",
       "      <td>1 L</td>\n",
       "      <td>16.76000</td>\n",
       "      <td>Milk</td>\n",
       "    </tr>\n",
       "    <tr>\n",
       "      <th>692405</th>\n",
       "      <td>Bangladesh</td>\n",
       "      <td>Dhaka</td>\n",
       "      <td>2010-02-16 00:00:00</td>\n",
       "      <td>31.0</td>\n",
       "      <td>1 L</td>\n",
       "      <td>17.31000</td>\n",
       "      <td>Milk</td>\n",
       "    </tr>\n",
       "    <tr>\n",
       "      <th>692403</th>\n",
       "      <td>Bangladesh</td>\n",
       "      <td>Khulna</td>\n",
       "      <td>2010-02-16 00:00:00</td>\n",
       "      <td>31.0</td>\n",
       "      <td>1 L</td>\n",
       "      <td>17.59000</td>\n",
       "      <td>Milk</td>\n",
       "    </tr>\n",
       "  </tbody>\n",
       "</table>\n",
       "</div>"
      ],
      "text/plain": [
       "           Country        City             Obs Date  Product Code Quantity  \\\n",
       "237535  Bangladesh       Dhaka  2012-04-16 00:00:00          14.0     1 kg   \n",
       "256654  Bangladesh  Chittagong  2011-02-27 00:00:00          32.0     6 pc   \n",
       "692408  Bangladesh  Chittagong  2010-02-16 00:00:00          31.0      1 L   \n",
       "692405  Bangladesh       Dhaka  2010-02-16 00:00:00          31.0      1 L   \n",
       "692403  Bangladesh      Khulna  2010-02-16 00:00:00          31.0      1 L   \n",
       "\n",
       "           Price  Product Name  \n",
       "237535   0.96193  Flour, wheat  \n",
       "256654   6.75000          Eggs  \n",
       "692408  16.76000          Milk  \n",
       "692405  17.31000          Milk  \n",
       "692403  17.59000          Milk  "
      ]
     },
     "execution_count": 31,
     "metadata": {},
     "output_type": "execute_result"
    }
   ],
   "source": [
    "df_full.head()"
   ]
  },
  {
   "cell_type": "code",
   "execution_count": 32,
   "metadata": {},
   "outputs": [],
   "source": [
    "df_full.to_excel(data_output,columns=['Country','City','Obs Date','Product Code','Quantity','Price','Product Name'])"
   ]
  }
 ],
 "metadata": {
  "kernelspec": {
   "display_name": "Python 3",
   "language": "python",
   "name": "python3"
  },
  "language_info": {
   "codemirror_mode": {
    "name": "ipython",
    "version": 3
   },
   "file_extension": ".py",
   "mimetype": "text/x-python",
   "name": "python",
   "nbconvert_exporter": "python",
   "pygments_lexer": "ipython3",
   "version": "3.7.3"
  }
 },
 "nbformat": 4,
 "nbformat_minor": 2
}
